{
  "nbformat": 4,
  "nbformat_minor": 0,
  "metadata": {
    "colab": {
      "provenance": [],
      "include_colab_link": true
    },
    "kernelspec": {
      "name": "python3",
      "display_name": "Python 3"
    },
    "language_info": {
      "name": "python"
    }
  },
  "cells": [
    {
      "cell_type": "markdown",
      "metadata": {
        "id": "view-in-github",
        "colab_type": "text"
      },
      "source": [
        "<a href=\"https://colab.research.google.com/github/marcus-santos/ifsp-carcdsi-playground/blob/main/machine_learning.ipynb\" target=\"_parent\"><img src=\"https://colab.research.google.com/assets/colab-badge.svg\" alt=\"Open In Colab\"/></a>"
      ]
    },
    {
      "cell_type": "code",
      "execution_count": 3,
      "metadata": {
        "colab": {
          "base_uri": "https://localhost:8080/"
        },
        "id": "h4pxyndePygm",
        "outputId": "fdfb84d6-2135-4317-faba-d9a560596462"
      },
      "outputs": [
        {
          "output_type": "stream",
          "name": "stdout",
          "text": [
            "Mounted at /content/drive\n"
          ]
        }
      ],
      "source": [
        "from sklearn.neighbors import KNeighborsClassifier\n",
        "import pandas as pd\n",
        "from google.colab import drive\n",
        "drive.mount('/content/drive')\n",
        "flags = pd.read_csv('/content/drive/MyDrive/IFSP/Ciencia_Dados/Material/flags_transformado.csv')"
      ]
    },
    {
      "cell_type": "code",
      "source": [
        "#--------------------------------------------------------\n",
        "# Configurar os paramêtros e variáveis auxiliares\n",
        "#--------------------------------------------------------\n",
        "\n",
        "# valor de k a ser usado no k-NN\n",
        "k = 3\n",
        "\n",
        "# Nomes dos labels (rótulos de classes)\n",
        "labels = ['red', 'green', 'blue', 'gold', 'white', 'black', 'orange']\n",
        "\n",
        "# Números de labels (7)\n",
        "q = len(labels)\n",
        "\n",
        "# Números de registros de base de treinamento(=194)\n",
        "n = flags.shape[0]\n",
        "\n",
        "#--------------------------------------------------------\n",
        "# Cria um classificador com o algoritimo K-NN\n",
        "# e faz a estimativa do desempenho preditivo\n",
        "# com o método LOO (Leave-One-Out)\n",
        "#--------------------------------------------------------\n",
        "\n",
        "# for j: laço que percorre cada rótulo de classe\n",
        "for j in range(0,q):\n",
        "  print('------------------------------------')\n",
        "  print('Processando o Rótulo ', labels[j])\n",
        "  # Instancia uma matriz de confusão para o rótulo j\n",
        "  mc = pd.DataFrame({'predito_nao':[0,0],\n",
        "                     'predito_sim':[0,0]},\n",
        "                    index=['real_nao', 'real_sim'])\n",
        "  #--------------------------------------------------------\n",
        "  # Divide a base de treinamento verticalmente\n",
        "  # em duas partes: X (atributos preditivos) e\n",
        "  # Y (atributos classe)\n",
        "  #--------------------------------------------------------\n",
        "\n",
        "  X = flags.drop(columns=labels)\n",
        "  Y = flags[labels[j]]\n",
        "\n",
        "  # for i: laço que realiza o LOO para o rótulo j\n",
        "  for i in range(0,n):\n",
        "\n",
        "    # Cria conjunto de treinamento\n",
        "    X_treino = X.drop([i])\n",
        "    Y_treino = Y.drop([i])\n",
        "\n",
        "    # Cria conjunto de teste\n",
        "    X_teste = X.iloc[[i],:]\n",
        "    Y_teste = Y.iloc[[i]]\n",
        "\n",
        "    # Treinamento do modelo K-NN com os dados de treino\n",
        "    modelo = KNeighborsClassifier(n_neighbors=k)\n",
        "    modelo.fit(X_treino, Y_treino)\n",
        "\n",
        "    #Testes do modelo K-NN com o objeto de teste\n",
        "    pred = modelo.predict(X_teste)[0]\n",
        "\n",
        "    # Atualiza a matriz de confusão\n",
        "    if (Y_teste.iloc[0]==0):\n",
        "      if (pred==0):\n",
        "        mc.loc['real_nao', 'predito_nao'] += 1\n",
        "      if (pred==1):\n",
        "        mc.loc['real_nao', 'predito_sim'] += 1\n",
        "    else:\n",
        "      if (pred==0):\n",
        "        mc.loc['real_sim', 'predito_nao'] += 1\n",
        "      if (pred==1):\n",
        "        mc.loc['real_sim', 'predito_sim'] += 1\n",
        "\n",
        "  # Fim do LOO para o rótulo j:\n",
        "  # imprimir a matriz de confusão e acurácia\n",
        "\n",
        "  print(mc)\n",
        "  acuracia = (mc.loc['real_nao', 'predito_nao'] + mc.loc['real_sim', 'predito_sim'])/n\n",
        "  print('Acurácia: ', round(acuracia,2))\n",
        "\n",
        "\n"
      ],
      "metadata": {
        "colab": {
          "base_uri": "https://localhost:8080/"
        },
        "collapsed": true,
        "id": "xz9vCC6tQlMk",
        "outputId": "3f15d0a0-2c5d-43c6-bd96-3d854c039877"
      },
      "execution_count": 5,
      "outputs": [
        {
          "output_type": "stream",
          "name": "stdout",
          "text": [
            "------------------------------------\n",
            "Processando o Rótulo  red\n",
            "          predito_nao  predito_sim\n",
            "real_nao           20           21\n",
            "real_sim           22          131\n",
            "Acurácia:  0.78\n",
            "------------------------------------\n",
            "Processando o Rótulo  green\n",
            "          predito_nao  predito_sim\n",
            "real_nao           88           15\n",
            "real_sim           17           74\n",
            "Acurácia:  0.84\n",
            "------------------------------------\n",
            "Processando o Rótulo  blue\n",
            "          predito_nao  predito_sim\n",
            "real_nao           64           31\n",
            "real_sim           28           71\n",
            "Acurácia:  0.7\n",
            "------------------------------------\n",
            "Processando o Rótulo  gold\n",
            "          predito_nao  predito_sim\n",
            "real_nao           81           22\n",
            "real_sim           37           54\n",
            "Acurácia:  0.7\n",
            "------------------------------------\n",
            "Processando o Rótulo  white\n",
            "          predito_nao  predito_sim\n",
            "real_nao           18           30\n",
            "real_sim           24          122\n",
            "Acurácia:  0.72\n",
            "------------------------------------\n",
            "Processando o Rótulo  black\n",
            "          predito_nao  predito_sim\n",
            "real_nao          125           17\n",
            "real_sim           28           24\n",
            "Acurácia:  0.77\n",
            "------------------------------------\n",
            "Processando o Rótulo  orange\n",
            "          predito_nao  predito_sim\n",
            "real_nao          163            5\n",
            "real_sim           20            6\n",
            "Acurácia:  0.87\n"
          ]
        }
      ]
    },
    {
      "cell_type": "code",
      "source": [],
      "metadata": {
        "id": "5P3gzmU1WYQR"
      },
      "execution_count": null,
      "outputs": []
    }
  ]
}