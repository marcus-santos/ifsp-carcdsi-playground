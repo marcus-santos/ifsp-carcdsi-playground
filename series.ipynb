{
  "nbformat": 4,
  "nbformat_minor": 0,
  "metadata": {
    "colab": {
      "provenance": [],
      "authorship_tag": "ABX9TyOZBy+RcgocHZx5JITmldH5",
      "include_colab_link": true
    },
    "kernelspec": {
      "name": "python3",
      "display_name": "Python 3"
    },
    "language_info": {
      "name": "python"
    }
  },
  "cells": [
    {
      "cell_type": "markdown",
      "metadata": {
        "id": "view-in-github",
        "colab_type": "text"
      },
      "source": [
        "<a href=\"https://colab.research.google.com/github/marcus-santos/ifsp-carcdsi-playground/blob/main/series.ipynb\" target=\"_parent\"><img src=\"https://colab.research.google.com/assets/colab-badge.svg\" alt=\"Open In Colab\"/></a>"
      ]
    },
    {
      "cell_type": "code",
      "execution_count": 1,
      "metadata": {
        "id": "XzSY2hZrdktk"
      },
      "outputs": [],
      "source": [
        "import pandas as pd"
      ]
    },
    {
      "cell_type": "code",
      "source": [
        "#Cria a Series notas\n",
        "grades = pd.Series([7.6, 5.0, 8.5, 9.5, 6.4])\n",
        "\n",
        "# Cria a Series alunos\n",
        "lst_registration = ['M02','M05','M13','M14','M15']\n",
        "lst_names = ['Bob', 'Dayse','Bill', 'Cris', 'Jimi']\n",
        "students = pd.Series(lst_names, index=lst_registration)\n",
        "print(grades)\n",
        "print(\"-------------\")\n",
        "print(students)"
      ],
      "metadata": {
        "colab": {
          "base_uri": "https://localhost:8080/"
        },
        "id": "LdeF9o9peFWP",
        "outputId": "493765d5-68e2-4219-facc-70b07d07117a"
      },
      "execution_count": 5,
      "outputs": [
        {
          "output_type": "stream",
          "name": "stdout",
          "text": [
            "0    7.6\n",
            "1    5.0\n",
            "2    8.5\n",
            "3    9.5\n",
            "4    6.4\n",
            "dtype: float64\n",
            "-------------\n",
            "M02      Bob\n",
            "M05    Dayse\n",
            "M13     Bill\n",
            "M14     Cris\n",
            "M15     Jimi\n",
            "dtype: object\n"
          ]
        }
      ]
    },
    {
      "cell_type": "code",
      "source": [
        "# Criação de Series 2º Forma - a partir de um dicionário\n",
        "dic_students = {'M02':'Bob', 'M05':'Dayse', 'M13':'Bill', 'M14':'Cris', 'M19':'Jimi'}\n",
        "students2 = pd.Series(dic_students)\n",
        "print(students2)"
      ],
      "metadata": {
        "colab": {
          "base_uri": "https://localhost:8080/"
        },
        "id": "1ae_8ZRwfD14",
        "outputId": "aef40ae5-fbf9-4f30-c25b-b950800f9914"
      },
      "execution_count": 6,
      "outputs": [
        {
          "output_type": "stream",
          "name": "stdout",
          "text": [
            "M02      Bob\n",
            "M05    Dayse\n",
            "M13     Bill\n",
            "M14     Cris\n",
            "M19     Jimi\n",
            "dtype: object\n"
          ]
        }
      ]
    },
    {
      "cell_type": "code",
      "source": [
        "# Propriedades básicas das Series\n",
        "students = pd.Series({'M02':'Bob', 'M05':'Dayse', 'M13':'Bill', 'M14':'Cris', 'M19':'Jimi'})\n",
        "\n",
        "# Atribui nomes para os vetores de dados e rótulos (indice)\n",
        "students.name = \"alunos\"\n",
        "students.index.name = \"matriculas\"\n",
        "\n",
        "print(students)\n",
        "\n",
        "size = students.size\n",
        "data = students.values\n",
        "labels = students.index\n",
        "studentsType = type(students)\n",
        "studentsDType = students.dtype\n",
        "studentsIndexType = students.index.dtype\n",
        "\n",
        "print('Número de elementos: ', size)\n",
        "print('Vetor de dados: ', data)\n",
        "print('Vetor de Rótulos: ', labels)\n",
        "print('Tipo (type): ', studentsType)\n",
        "print('dtype da Series: ', studentsDType)\n",
        "print('dtype do Vetor de Dados: ', studentsIndexType)"
      ],
      "metadata": {
        "colab": {
          "base_uri": "https://localhost:8080/"
        },
        "id": "PFMVEJUdhH6x",
        "outputId": "6b2ac299-4166-4eb4-882b-e9e1bf3ec71c"
      },
      "execution_count": 9,
      "outputs": [
        {
          "output_type": "stream",
          "name": "stdout",
          "text": [
            "matriculas\n",
            "M02      Bob\n",
            "M05    Dayse\n",
            "M13     Bill\n",
            "M14     Cris\n",
            "M19     Jimi\n",
            "Name: alunos, dtype: object\n",
            "Número de elementos:  5\n",
            "Vetor de dados:  ['Bob' 'Dayse' 'Bill' 'Cris' 'Jimi']\n",
            "Vetor de Rótulos:  Index(['M02', 'M05', 'M13', 'M14', 'M19'], dtype='object', name='matriculas')\n",
            "Tipo (type):  <class 'pandas.core.series.Series'>\n",
            "dtype da Series:  object\n",
            "dtype do Vetor de Dados:  object\n"
          ]
        }
      ]
    },
    {
      "cell_type": "code",
      "source": [
        "# Indexação booleano\n",
        "\n",
        "# Obtem os indices dos alunos aprovados\n",
        "indexApproved = grades[grades >=7].index\n",
        "\n",
        "# Imprime os alunos aprovados\n",
        "print('Relação de alunos aprovados')\n",
        "print('---------------------------')\n",
        "# print(students[indexApproved]) (deprecated)\n",
        "print(students.iloc[indexApproved])"
      ],
      "metadata": {
        "colab": {
          "base_uri": "https://localhost:8080/"
        },
        "id": "IL55HX6Dh-dD",
        "outputId": "9ce652f9-8555-4b08-8ab9-f0aa80408a28"
      },
      "execution_count": 11,
      "outputs": [
        {
          "output_type": "stream",
          "name": "stdout",
          "text": [
            "Relação de alunos aprovados\n",
            "---------------------------\n",
            "matriculas\n",
            "M02     Bob\n",
            "M13    Bill\n",
            "M14    Cris\n",
            "Name: alunos, dtype: object\n"
          ]
        }
      ]
    },
    {
      "cell_type": "code",
      "source": [
        "# Buscas em Series\n",
        "\n",
        "hasM13 = 'M13' in students\n",
        "hasM99 = 'M99' in students\n",
        "print('Eiste o rótulo \"M13\"? -> ', hasM13)\n",
        "print('Eiste o rótulo \"M99\"? -> ', hasM99)\n",
        "\n",
        "# Testa se valor faz parte da Series\n",
        "hasBob = students.isin(['Bob'])\n",
        "print('Existe o valor \"Bob\"? -> ', hasBob)\n",
        "\n",
        "hasCris = students.isin(['Cris'])\n",
        "print('Existe o valor \"Cris\"? -> ', hasCris)"
      ],
      "metadata": {
        "colab": {
          "base_uri": "https://localhost:8080/"
        },
        "id": "XcnpfrN3ld6p",
        "outputId": "355b4309-ba40-4a53-f0fa-f46d2e1a1916"
      },
      "execution_count": 16,
      "outputs": [
        {
          "output_type": "stream",
          "name": "stdout",
          "text": [
            "Eiste o rótulo \"M13\"? ->  True\n",
            "Eiste o rótulo \"M99\"? ->  False\n",
            "Existe o valor \"Bob\"? ->  matriculas\n",
            "M02     True\n",
            "M05    False\n",
            "M13    False\n",
            "M14    False\n",
            "M19    False\n",
            "Name: alunos, dtype: bool\n",
            "Existe o valor \"Cris\"? ->  matriculas\n",
            "M02    False\n",
            "M05    False\n",
            "M13    False\n",
            "M14     True\n",
            "M19    False\n",
            "Name: alunos, dtype: bool\n"
          ]
        }
      ]
    },
    {
      "cell_type": "code",
      "source": [
        "# Inserindo, Alterando e Removendo elementos de Series\n",
        "\n",
        "print('Series original')\n",
        "print(students)\n",
        "\n",
        "# Insere o aluno de matricula M55, Rakesh\n",
        "students['M55'] = 'Rakesh'\n",
        "print(students)\n",
        "\n",
        "# Alterar os nomes Bill, Cris e Jimi para Billy Cristy e Jimy\n",
        "students['M13'] = 'Billy'\n",
        "students[['M14', 'M19']] = ['Cristy', 'Jimy']\n",
        "print(students)\n",
        "\n",
        "# Remove o aluno de matricula M01 (Bob)\n",
        "students = students.drop('M02')\n",
        "print(students)"
      ],
      "metadata": {
        "colab": {
          "base_uri": "https://localhost:8080/"
        },
        "id": "nm2OAq-9mu7X",
        "outputId": "0509d03d-11f8-4580-fa96-e98e5adad538"
      },
      "execution_count": 18,
      "outputs": [
        {
          "output_type": "stream",
          "name": "stdout",
          "text": [
            "Series original\n",
            "matriculas\n",
            "M02       Bob\n",
            "M05     Dayse\n",
            "M13      Bill\n",
            "M14      Cris\n",
            "M19      Jimi\n",
            "M55    Rakesh\n",
            "Name: alunos, dtype: object\n",
            "matriculas\n",
            "M02       Bob\n",
            "M05     Dayse\n",
            "M13      Bill\n",
            "M14      Cris\n",
            "M19      Jimi\n",
            "M55    Rakesh\n",
            "Name: alunos, dtype: object\n",
            "matriculas\n",
            "M02       Bob\n",
            "M05     Dayse\n",
            "M13     Billy\n",
            "M14    Cristy\n",
            "M19      Jimy\n",
            "M55    Rakesh\n",
            "Name: alunos, dtype: object\n",
            "matriculas\n",
            "M05     Dayse\n",
            "M13     Billy\n",
            "M14    Cristy\n",
            "M19      Jimy\n",
            "M55    Rakesh\n",
            "Name: alunos, dtype: object\n"
          ]
        }
      ]
    },
    {
      "cell_type": "code",
      "source": [
        "# Mudando o indice da Series\n",
        "\n",
        "students = pd.Series({'M02':'Bob', 'M05':'Dayse', 'M13':'Bill', 'M14':'Cris', 'M19':'Jimi'})\n",
        "print(students)\n",
        "\n",
        "students.index = ['M91', 'M92', 'M93', 'M94', 'M95']\n",
        "print(students)"
      ],
      "metadata": {
        "colab": {
          "base_uri": "https://localhost:8080/"
        },
        "id": "RXOEHXqGqWDB",
        "outputId": "8142aaac-bfee-4eb3-d0c8-3721c74ad800"
      },
      "execution_count": 19,
      "outputs": [
        {
          "output_type": "stream",
          "name": "stdout",
          "text": [
            "M02      Bob\n",
            "M05    Dayse\n",
            "M13     Bill\n",
            "M14     Cris\n",
            "M19     Jimi\n",
            "dtype: object\n",
            "M91      Bob\n",
            "M92    Dayse\n",
            "M93     Bill\n",
            "M94     Cris\n",
            "M95     Jimi\n",
            "dtype: object\n"
          ]
        }
      ]
    },
    {
      "cell_type": "code",
      "source": [
        "# Iteração\n",
        "for student in students: print(student)\n",
        "\n",
        "for position in students.index: print(position)"
      ],
      "metadata": {
        "colab": {
          "base_uri": "https://localhost:8080/"
        },
        "id": "Xfw9ta-0r8SX",
        "outputId": "28ce0ab0-e34a-4417-d5d4-a6a19832d355"
      },
      "execution_count": 20,
      "outputs": [
        {
          "output_type": "stream",
          "name": "stdout",
          "text": [
            "Bob\n",
            "Dayse\n",
            "Bill\n",
            "Cris\n",
            "Jimi\n",
            "M91\n",
            "M92\n",
            "M93\n",
            "M94\n",
            "M95\n"
          ]
        }
      ]
    },
    {
      "cell_type": "code",
      "source": [
        "# Operações aritméticas com computação vetorizada\n",
        "import pandas as pd\n",
        "import numpy as np\n",
        "\n",
        "# Cria as Series s1 e s2\n",
        "\n",
        "s1 = pd.Series([2,4,6])\n",
        "s2 = pd.Series([1,3,5])\n",
        "\n",
        "print('s1')\n",
        "print(s1)\n",
        "print('s2')\n",
        "print(s2)\n",
        "\n",
        "print('s1 * 2')\n",
        "print(s1 *2)\n",
        "\n",
        "print('s1 + s2')\n",
        "print(s1 + s2)\n",
        "\n",
        "print('raiz quadrada dos elementos de s1')\n",
        "print(np.sqrt(s1))"
      ],
      "metadata": {
        "colab": {
          "base_uri": "https://localhost:8080/"
        },
        "id": "LPDoDNdeskRU",
        "outputId": "21bd2a7c-3892-4b57-cad0-e34eb4ae63f6"
      },
      "execution_count": 23,
      "outputs": [
        {
          "output_type": "stream",
          "name": "stdout",
          "text": [
            "s1\n",
            "0    2\n",
            "1    4\n",
            "2    6\n",
            "dtype: int64\n",
            "s2\n",
            "0    1\n",
            "1    3\n",
            "2    5\n",
            "dtype: int64\n",
            "s1 * 2\n",
            "0     4\n",
            "1     8\n",
            "2    12\n",
            "dtype: int64\n",
            "s1 + s2\n",
            "0     3\n",
            "1     7\n",
            "2    11\n",
            "dtype: int64\n",
            "raiz quadrada dos elementos de s1\n",
            "0    1.414214\n",
            "1    2.000000\n",
            "2    2.449490\n",
            "dtype: float64\n"
          ]
        }
      ]
    },
    {
      "cell_type": "code",
      "source": [
        "# Valor NaN\n",
        "\n",
        "green = pd.Series({'BR':1, 'FR':0, 'IT':1, 'UK':0})\n",
        "blue = pd.Series({'AR':1, 'BR':1, 'FR':1, 'IT':0, 'UK':1})\n",
        "total = green + blue\n",
        "print('Soma')\n",
        "print(total)\n",
        "print('--------------------')\n",
        "print('isnull(total)')\n",
        "print(pd.isnull(total))"
      ],
      "metadata": {
        "colab": {
          "base_uri": "https://localhost:8080/"
        },
        "id": "tbpxIj5bti0o",
        "outputId": "c3fd32fb-5453-4a19-9a4e-09cd07702846"
      },
      "execution_count": 26,
      "outputs": [
        {
          "output_type": "stream",
          "name": "stdout",
          "text": [
            "Soma\n",
            "AR    NaN\n",
            "BR    2.0\n",
            "FR    1.0\n",
            "IT    1.0\n",
            "UK    1.0\n",
            "dtype: float64\n",
            "--------------------\n",
            "isnull(total)\n",
            "AR     True\n",
            "BR    False\n",
            "FR    False\n",
            "IT    False\n",
            "UK    False\n",
            "dtype: bool\n"
          ]
        }
      ]
    },
    {
      "cell_type": "code",
      "source": [
        "# Indices datetime\n",
        "\n",
        "#(1) - cria uma serie temporal\n",
        "days = ['10/02/2019', '11/02/2019', '12/02/2019','13/02/2019', '14/02/2019', '15/02/2019']\n",
        "tempMax = [31,35,34,28,27,27]\n",
        "serieTemporal = pd.Series(tempMax, index=days)\n",
        "\n",
        "#(2) - converte o tipo do indice para datetime e imprime a serie\n",
        "serieTemporal.index = pd.to_datetime(serieTemporal.index, format='%d/%m/%Y')\n",
        "print(serieTemporal)"
      ],
      "metadata": {
        "colab": {
          "base_uri": "https://localhost:8080/"
        },
        "id": "jBPSVzyp3a1u",
        "outputId": "7ce69cbe-e3f8-430d-91a0-463cf0d2733b"
      },
      "execution_count": 33,
      "outputs": [
        {
          "output_type": "stream",
          "name": "stdout",
          "text": [
            "2019-02-10    31\n",
            "2019-02-11    35\n",
            "2019-02-12    34\n",
            "2019-02-13    28\n",
            "2019-02-14    27\n",
            "2019-02-15    27\n",
            "dtype: int64\n"
          ]
        }
      ]
    },
    {
      "cell_type": "code",
      "source": [
        "# Indexação hierarquica\n",
        "money = ['Peso', 'Real', 'Euro', 'Euro', 'Libra']\n",
        "countries = [['América', 'América', 'Europa', 'Europa', 'Europa'], ['AR', 'BR', 'FR', 'IT', 'UK']]\n",
        "lstCountries = pd.Series(money, index=countries)\n",
        "print(lstCountries) # Imprime toda a lista\n",
        "print('----------------------')\n",
        "print(lstCountries['América']) # (AR: Peso, BR: Real)\n",
        "print('----------------------')\n",
        "print(lstCountries[:,'IT']) # (Europa: Euro)\n",
        "print('----------------------')\n",
        "print(lstCountries['Europa', 'IT']) # Euro"
      ],
      "metadata": {
        "colab": {
          "base_uri": "https://localhost:8080/"
        },
        "id": "ompz7_Uk5jsZ",
        "outputId": "b12a5649-72f8-4fb7-fd92-c10d6477f271"
      },
      "execution_count": 36,
      "outputs": [
        {
          "output_type": "stream",
          "name": "stdout",
          "text": [
            "América  AR     Peso\n",
            "         BR     Real\n",
            "Europa   FR     Euro\n",
            "         IT     Euro\n",
            "         UK    Libra\n",
            "dtype: object\n",
            "----------------------\n",
            "AR    Peso\n",
            "BR    Real\n",
            "dtype: object\n",
            "----------------------\n",
            "Europa    Euro\n",
            "dtype: object\n",
            "----------------------\n",
            "Euro\n"
          ]
        }
      ]
    },
    {
      "cell_type": "code",
      "source": [],
      "metadata": {
        "id": "VQg7_dy18Ug-"
      },
      "execution_count": null,
      "outputs": []
    }
  ]
}