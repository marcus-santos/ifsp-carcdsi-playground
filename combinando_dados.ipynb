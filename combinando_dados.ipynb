{
  "nbformat": 4,
  "nbformat_minor": 0,
  "metadata": {
    "colab": {
      "provenance": [],
      "authorship_tag": "ABX9TyOSehoMOmmZqoWwhISYnvo4",
      "include_colab_link": true
    },
    "kernelspec": {
      "name": "python3",
      "display_name": "Python 3"
    },
    "language_info": {
      "name": "python"
    }
  },
  "cells": [
    {
      "cell_type": "markdown",
      "metadata": {
        "id": "view-in-github",
        "colab_type": "text"
      },
      "source": [
        "<a href=\"https://colab.research.google.com/github/marcus-santos/ifsp-carcdsi-playground/blob/main/combinando_dados.ipynb\" target=\"_parent\"><img src=\"https://colab.research.google.com/assets/colab-badge.svg\" alt=\"Open In Colab\"/></a>"
      ]
    },
    {
      "cell_type": "code",
      "execution_count": 2,
      "metadata": {
        "colab": {
          "base_uri": "https://localhost:8080/"
        },
        "id": "RxRU6FTyuo5k",
        "outputId": "1ed3e0d0-4ece-4938-aa94-2a3853b7801e"
      },
      "outputs": [
        {
          "output_type": "stream",
          "name": "stdout",
          "text": [
            "  loja  dia  valor\n",
            "0    A  sex   7500\n",
            "1    A  sab   9500\n",
            "2    A  dom   8200\n",
            "3    B  sex   5100\n",
            "4    B  sab   8250\n",
            "5    B  dom   9900\n",
            "6    C  sab   7500\n",
            "7    C  dom  11800\n"
          ]
        }
      ],
      "source": [
        "import pandas as pd\n",
        "\n",
        "lojaA = pd.DataFrame({\"loja\": [\"A\",\"A\",\"A\"],\n",
        "                      \"dia\": [\"sex\", \"sab\", \"dom\"],\n",
        "                      \"valor\": [7500,9500,8200]}\n",
        "                     )\n",
        "\n",
        "lojaB = pd.DataFrame({\"loja\": [\"B\",\"B\",\"B\"],\n",
        "                      \"dia\": [\"sex\", \"sab\", \"dom\"],\n",
        "                      \"valor\": [5100,8250,9900]}\n",
        "                     )\n",
        "\n",
        "lojaC = pd.DataFrame({\"loja\": [\"C\",\"C\"],\n",
        "                      \"dia\": [\"sab\", \"dom\"],\n",
        "                      \"valor\": [7500,11800]}\n",
        "                     )\n",
        "\n",
        "lojaABC = pd.concat([lojaA,lojaB,lojaC], ignore_index=True)\n",
        "\n",
        "print(lojaABC)\n"
      ]
    },
    {
      "cell_type": "code",
      "source": [
        "d1 = pd.DataFrame({\"carro\": [\"Hyundai\", \"Renault\", \"Fiat\"]})\n",
        "\n",
        "d2 = pd.DataFrame({\"animal\": [\"Capivara\", \"Bem-ti-vi\"]})\n",
        "\n",
        "d3 = pd.concat([d1,d2], ignore_index=True, sort=False)\n",
        "print(d3)"
      ],
      "metadata": {
        "colab": {
          "base_uri": "https://localhost:8080/"
        },
        "id": "QejT4A2O0lcy",
        "outputId": "4ddcd2a7-c71d-432e-896a-d7e43893dbce"
      },
      "execution_count": 4,
      "outputs": [
        {
          "output_type": "stream",
          "name": "stdout",
          "text": [
            "     carro     animal\n",
            "0  Hyundai        NaN\n",
            "1  Renault        NaN\n",
            "2     Fiat        NaN\n",
            "3      NaN   Capivara\n",
            "4      NaN  Bem-ti-vi\n"
          ]
        }
      ]
    },
    {
      "cell_type": "code",
      "source": [
        "df_sql = pd.DataFrame({\"email\": [\"elza.=_peixoto@astconsult.com.br\",\n",
        "                                 \"carlos_pires@piscinasegura.com.br\"]\n",
        "                       })\n",
        "\n",
        "df_python = pd.DataFrame({\"email\": [\"elza.=_peixoto@astconsult.com.br\",\n",
        "                                    \"roberto_moreira@gruporeis.net\",\n",
        "                                    \"alice.nicole.barbosa@bb.com.br\"],\n",
        "                          })\n",
        "\n",
        "# União (relação de emails distintos)\n",
        "\n",
        "alunos = pd.concat([df_sql, df_python], ignore_index=True)\n",
        "\n",
        "alunos = alunos.drop_duplicates()\n",
        "\n",
        "# Interseção (quem fez ambos os cursos)\n",
        "\n",
        "sql_e_python = df_sql.merge(df_python)\n",
        "\n",
        "# Diferença (quem fez só SQÇ e fez só Python)\n",
        "\n",
        "so_sql = df_sql[df_sql.email.isin(df_python.email)==False]\n",
        "so_python = df_python[df_python.email.isin(df_sql.email)==False]\n",
        "\n",
        "print(\"Alunos Distintos:\\n\", alunos)\n",
        "print(\"Alunos que fizeram SQL e Python:\\n\", sql_e_python)\n",
        "print(\"Alunos que fizeram apenas SQL:\\n\", so_sql)\n",
        "print(\"Alunos que fizeram apenas Python:\\n\", so_python)"
      ],
      "metadata": {
        "colab": {
          "base_uri": "https://localhost:8080/"
        },
        "id": "CiYfD_BV6mXS",
        "outputId": "d0ed8df0-5905-42aa-e7b5-b10f13c7b3c3"
      },
      "execution_count": 6,
      "outputs": [
        {
          "output_type": "stream",
          "name": "stdout",
          "text": [
            "Alunos Distintos:\n",
            "                                email\n",
            "0   elza.=_peixoto@astconsult.com.br\n",
            "1  carlos_pires@piscinasegura.com.br\n",
            "3      roberto_moreira@gruporeis.net\n",
            "4     alice.nicole.barbosa@bb.com.br\n",
            "Alunos que fizeram SQL e Python:\n",
            "                               email\n",
            "0  elza.=_peixoto@astconsult.com.br\n",
            "Alunos que fizeram apenas SQL:\n",
            "                                email\n",
            "1  carlos_pires@piscinasegura.com.br\n",
            "Alunos que fizeram apenas Python:\n",
            "                             email\n",
            "1   roberto_moreira@gruporeis.net\n",
            "2  alice.nicole.barbosa@bb.com.br\n"
          ]
        }
      ]
    },
    {
      "cell_type": "code",
      "source": [
        "from google.colab import drive\n",
        "drive.mount('/content/drive')"
      ],
      "metadata": {
        "colab": {
          "base_uri": "https://localhost:8080/"
        },
        "id": "446ZCMWjKI_J",
        "outputId": "bbaff790-47e3-45bb-a365-a6c668b6de69"
      },
      "execution_count": 8,
      "outputs": [
        {
          "output_type": "stream",
          "name": "stdout",
          "text": [
            "Mounted at /content/drive\n"
          ]
        }
      ]
    },
    {
      "cell_type": "code",
      "source": [
        "# Importando os dados\n",
        "\n",
        "flags = pd.read_csv('/content/drive/MyDrive/IFSP/Ciencia_Dados/Material/flags.csv')\n",
        "countries = pd.read_csv('/content/drive/MyDrive/IFSP/Ciencia_Dados/Material/countries.csv')\n",
        "\n",
        "num_linhas_flags = flags.shape[0]\n",
        "num_linhas_countries = countries.shape[0]\n",
        "\n",
        "# Inner Join: paises comuns e ambas as bases\n",
        "\n",
        "ambas = pd.merge(flags, countries, how=\"inner\", left_on=\"name\", right_on=\"country\")\n",
        "num_linhas_ambas = ambas.shape[0]\n",
        "\n",
        "# Left Join: paises apenas em flags\n",
        "\n",
        "so_flags = pd.merge(flags, countries, how=\"left\", left_on=\"name\", right_on=\"country\")\n",
        "so_flags = so_flags[pd.isnull(so_flags['country'])==True]\n",
        "num_linhas_so_flags = so_flags.shape[0]\n",
        "\n",
        "# Right Join: paises apenas em countries\n",
        "\n",
        "so_countries = pd.merge(flags, countries, how=\"right\", left_on=\"name\", right_on=\"country\")\n",
        "so_countries = so_countries[pd.isnull(so_countries['name'])==True]\n",
        "num_linhas_so_countries = so_countries.shape[0]\n",
        "\n",
        "print(\"Numero de paises em flags: \", num_linhas_flags)\n",
        "print(\"Numero de paises em countries: \", num_linhas_countries)\n",
        "print(\"Numero de paises em ambas as bases: \", num_linhas_ambas)\n",
        "print(\"Numero de paises apenas em flags: \", num_linhas_so_flags)\n",
        "print(\"Numero de paises apenas em countries: \", num_linhas_so_countries)"
      ],
      "metadata": {
        "colab": {
          "base_uri": "https://localhost:8080/"
        },
        "id": "xabvbcLwOee8",
        "outputId": "98b5de0f-fcf7-42c6-f2a6-2194c32c623e"
      },
      "execution_count": 16,
      "outputs": [
        {
          "output_type": "stream",
          "name": "stdout",
          "text": [
            "Numero de paises em flags:  194\n",
            "Numero de paises em countries:  227\n",
            "Numero de paises em ambas as bases:  177\n",
            "Numero de paises apenas em flags:  17\n",
            "Numero de paises apenas em countries:  50\n"
          ]
        }
      ]
    },
    {
      "cell_type": "code",
      "source": [
        "# Seleção\n",
        "\n",
        "# Selecione apenas as linhas dos países da Oceania\n",
        "v = (flags['landmass']==6)\n",
        "flags_oceania = flags[v]\n",
        "\n",
        "print(flags_oceania)"
      ],
      "metadata": {
        "colab": {
          "base_uri": "https://localhost:8080/"
        },
        "id": "b1W77uw1Rvya",
        "outputId": "500d3ff9-3d0c-4f70-a6cf-a048828e1b64"
      },
      "execution_count": 17,
      "outputs": [
        {
          "output_type": "stream",
          "name": "stdout",
          "text": [
            "                 name  landmass  zone  area  population  language  religion  \\\n",
            "3      American-Samoa         6     3     0           0         1         1   \n",
            "10          Australia         6     2  7690          15         1         1   \n",
            "41       Cook-Islands         6     3     0           0         1         1   \n",
            "57               Fiji         6     2    18           1         1         1   \n",
            "61   French-Polynesia         6     3     4           0         3         0   \n",
            "71               Guam         6     1     0           0         1         1   \n",
            "82          Indonesia         6     2  1904         157        10         2   \n",
            "94           Kiribati         6     1     0           0         1         1   \n",
            "109          Marianas         6     1     0           0        10         1   \n",
            "113        Micronesia         6     1     1           0        10         1   \n",
            "119             Nauru         6     2     0           0        10         1   \n",
            "123       New-Zealand         6     2   268           2         1         1   \n",
            "127              Niue         6     3     0           0         1         1   \n",
            "134  Papua-New-Guinea         6     2   463           3         1         5   \n",
            "137       Philippines         6     1   300          48        10         0   \n",
            "151   Soloman-Islands         6     2    30           0         1         1   \n",
            "172             Tonga         6     2     1           0        10         1   \n",
            "177            Tuvalu         6     2     0           0         1         1   \n",
            "185           Vanuatu         6     2    15           0         6         1   \n",
            "189     Western-Samoa         6     3     3           0         1         1   \n",
            "\n",
            "     bars  stripes  colours  ...  saltires  quarters  sunstars  crescent  \\\n",
            "3       0        0        5  ...         0         0         0         0   \n",
            "10      0        0        3  ...         1         1         6         0   \n",
            "41      0        0        4  ...         1         1        15         0   \n",
            "57      0        0        7  ...         1         1         0         0   \n",
            "61      0        3        5  ...         0         0         1         0   \n",
            "71      0        0        7  ...         0         0         0         0   \n",
            "82      0        2        2  ...         0         0         0         0   \n",
            "94      0        0        4  ...         0         0         1         0   \n",
            "109     0        0        3  ...         0         0         1         0   \n",
            "113     0        0        2  ...         0         0         4         0   \n",
            "119     0        3        3  ...         0         0         1         0   \n",
            "123     0        0        3  ...         1         1         4         0   \n",
            "127     0        0        4  ...         1         1         5         0   \n",
            "134     0        0        4  ...         0         0         5         0   \n",
            "137     0        0        4  ...         0         0         4         0   \n",
            "151     0        0        4  ...         0         0         5         0   \n",
            "172     0        0        2  ...         0         1         0         0   \n",
            "177     0        0        5  ...         1         1         9         0   \n",
            "185     0        0        4  ...         0         0         0         0   \n",
            "189     0        0        3  ...         0         1         5         0   \n",
            "\n",
            "     triangle  icon  animate text  topleft  botright  \n",
            "3           1     1        1    0     blue       red  \n",
            "10          0     0        0    0    white      blue  \n",
            "41          0     0        0    0    white      blue  \n",
            "57          0     1        1    0    white      blue  \n",
            "61          0     1        0    0      red       red  \n",
            "71          0     1        1    1      red       red  \n",
            "82          0     0        0    0      red     white  \n",
            "94          0     1        1    0      red      blue  \n",
            "109         0     1        0    0     blue      blue  \n",
            "113         0     0        0    0     blue      blue  \n",
            "119         0     0        0    0     blue      blue  \n",
            "123         0     0        0    0    white      blue  \n",
            "127         0     0        0    0    white      gold  \n",
            "134         1     0        1    0      red     black  \n",
            "137         1     0        0    0     blue       red  \n",
            "151         1     0        0    0     blue     green  \n",
            "172         0     0        0    0    white       red  \n",
            "177         0     0        0    0    white      blue  \n",
            "185         1     0        1    0    black     green  \n",
            "189         0     0        0    0     blue       red  \n",
            "\n",
            "[20 rows x 30 columns]\n"
          ]
        }
      ]
    },
    {
      "cell_type": "code",
      "source": [
        "# Projeção\n",
        "\n",
        "# Selecione apénas as linhas dos países da Oceania com área acima de 200mil Km²\n",
        "v = (flags['landmass']==6) & (flags['area']>200)\n",
        "df = flags[v]\n",
        "\n",
        "# Projeta apenas as colunas \"name\", \"colours\", \"language\", \"landmass\" e \"area\"\n",
        "df = df[['name', 'colours', 'language', 'landmass', 'area']]\n",
        "\n",
        "print(df)"
      ],
      "metadata": {
        "colab": {
          "base_uri": "https://localhost:8080/"
        },
        "id": "qH9OPNq3UU_4",
        "outputId": "2e116420-d058-4167-d033-eab25626413b"
      },
      "execution_count": 18,
      "outputs": [
        {
          "output_type": "stream",
          "name": "stdout",
          "text": [
            "                 name  colours  language  landmass  area\n",
            "10          Australia        3         1         6  7690\n",
            "82          Indonesia        2        10         6  1904\n",
            "123       New-Zealand        3         1         6   268\n",
            "134  Papua-New-Guinea        4         1         6   463\n",
            "137       Philippines        4        10         6   300\n"
          ]
        }
      ]
    },
    {
      "cell_type": "code",
      "source": [
        "# Método 'reset_index()'\n",
        "\n",
        "# Selecione apénas as linhas dos países da Oceania com área acima de 200mil Km²\n",
        "v = (flags['landmass']==6) & (flags['area']>200)\n",
        "df = flags[v]\n",
        "\n",
        "# Projeta apenas as colunas \"name\", \"colours\", \"language\", \"landmass\" e \"area\"\n",
        "df = df[['name', 'colours', 'language', 'landmass', 'area']]\n",
        "\n",
        "# Reseta o indice\n",
        "df = df.reset_index(drop=True)\n",
        "\n",
        "print(df)"
      ],
      "metadata": {
        "colab": {
          "base_uri": "https://localhost:8080/"
        },
        "id": "9qrYWwKzVYUv",
        "outputId": "56c925b9-6161-49b6-97fc-182f0f30540c"
      },
      "execution_count": 19,
      "outputs": [
        {
          "output_type": "stream",
          "name": "stdout",
          "text": [
            "               name  colours  language  landmass  area\n",
            "0         Australia        3         1         6  7690\n",
            "1         Indonesia        2        10         6  1904\n",
            "2       New-Zealand        3         1         6   268\n",
            "3  Papua-New-Guinea        4         1         6   463\n",
            "4       Philippines        4        10         6   300\n"
          ]
        }
      ]
    },
    {
      "cell_type": "code",
      "source": [],
      "metadata": {
        "id": "ghwpnZyGV72t"
      },
      "execution_count": null,
      "outputs": []
    }
  ]
}